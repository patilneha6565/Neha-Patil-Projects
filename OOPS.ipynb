{
 "cells": [
  {
   "cell_type": "code",
   "execution_count": 9,
   "id": "a9a4a0cd",
   "metadata": {},
   "outputs": [],
   "source": [
    "class mobile():\n",
    "    name=\"iphone\" #class variable\n",
    "    color=\"white\"\n",
    "    price=40000\n",
    "    def calling(self):#fun /self is object\n",
    "        name=\"iphone\"#local variable\n",
    "        color=\"white\"\n",
    "        return f\"mobile is used for calling, name of mobile is {name} and colour of mobile is {color}\"\n",
    "obj=mobile() #object instantion\n",
    "obj1=mobile()\n",
    "obj2=mobile()"
   ]
  },
  {
   "cell_type": "code",
   "execution_count": 10,
   "id": "5636680d",
   "metadata": {},
   "outputs": [
    {
     "data": {
      "text/plain": [
       "'mobile is used for calling, name of mobile is iphone and colour of mobile is white'"
      ]
     },
     "execution_count": 10,
     "metadata": {},
     "output_type": "execute_result"
    }
   ],
   "source": [
    "obj1.calling()"
   ]
  },
  {
   "cell_type": "code",
   "execution_count": null,
   "id": "83fe0e49",
   "metadata": {},
   "outputs": [],
   "source": [
    "class mobile():\n",
    "    \n",
    "    \n",
    "    def calling(self):\n",
    "        name=\"iphone\"\n",
    "        color=\"white\"\n",
    "        return f\"mobile is used for calling, name of mobile is {name} and colour of mobile is {color}\"\n",
    "obj=mobile()    "
   ]
  },
  {
   "cell_type": "code",
   "execution_count": 11,
   "id": "53c04a45",
   "metadata": {},
   "outputs": [
    {
     "data": {
      "text/plain": [
       "'mobile is used for calling, name of mobile is iphone and colour of mobile is white'"
      ]
     },
     "execution_count": 11,
     "metadata": {},
     "output_type": "execute_result"
    }
   ],
   "source": [
    "obj.calling()"
   ]
  },
  {
   "cell_type": "code",
   "execution_count": 16,
   "id": "04d41c17",
   "metadata": {},
   "outputs": [
    {
     "data": {
      "text/plain": [
       "'In this company there are 50 employees, name is Neha,salary is 40000 she is working as Data Analyst'"
      ]
     },
     "execution_count": 16,
     "metadata": {},
     "output_type": "execute_result"
    }
   ],
   "source": [
    "class Company():\n",
    "    \n",
    "    def Employees(self):\n",
    "        name=\"Neha\"\n",
    "        salary=40000\n",
    "        jobrole=\"Data Analyst\"\n",
    "        return f\"In this company there are 50 employees, name is {name},salary is {salary} she is working as {jobrole}\"\n",
    "obj=Company()\n",
    "obj.Employees()"
   ]
  },
  {
   "cell_type": "code",
   "execution_count": 19,
   "id": "29f3b525",
   "metadata": {},
   "outputs": [
    {
     "data": {
      "text/plain": [
       "'Virat Kohli has the jerseyno 18 he has the record of 75 centuries'"
      ]
     },
     "execution_count": 19,
     "metadata": {},
     "output_type": "execute_result"
    }
   ],
   "source": [
    "class Sports():\n",
    "    name=\"Cricket\"\n",
    "    matches=60\n",
    "    \n",
    "    def Cricket(self):\n",
    "        playername=\"Virat Kohli\"\n",
    "        jerseyno=18\n",
    "        Centuries=75\n",
    "        return f\"{playername} has the jerseyno {jerseyno} he has the record of {Centuries} centuries\"\n",
    "obj=Sports()\n",
    "obj.Cricket()"
   ]
  },
  {
   "cell_type": "code",
   "execution_count": 20,
   "id": "85888b64",
   "metadata": {},
   "outputs": [
    {
     "data": {
      "text/plain": [
       "'Cricket'"
      ]
     },
     "execution_count": 20,
     "metadata": {},
     "output_type": "execute_result"
    }
   ],
   "source": [
    "obj.name"
   ]
  },
  {
   "cell_type": "code",
   "execution_count": 22,
   "id": "34ea0df3",
   "metadata": {},
   "outputs": [
    {
     "data": {
      "text/plain": [
       "60"
      ]
     },
     "execution_count": 22,
     "metadata": {},
     "output_type": "execute_result"
    }
   ],
   "source": [
    "obj.matches"
   ]
  },
  {
   "cell_type": "code",
   "execution_count": 29,
   "id": "e0c18f62",
   "metadata": {},
   "outputs": [
    {
     "data": {
      "text/plain": [
       "'Addition is 100, Subtraction is 0, Multiplication is 2500, Floor division is 1'"
      ]
     },
     "execution_count": 29,
     "metadata": {},
     "output_type": "execute_result"
    }
   ],
   "source": [
    "class calculator():\n",
    "    \n",
    "    def calculations(self):\n",
    "        a=50\n",
    "        b=50\n",
    "        return f\"Addition is {a+b}, Subtraction is {a-b}, Multiplication is {a*b}, Floor division is {a//b}\"\n",
    "obj=calculator()\n",
    "obj.calculations()"
   ]
  },
  {
   "cell_type": "code",
   "execution_count": 60,
   "id": "b7b54605",
   "metadata": {},
   "outputs": [
    {
     "name": "stdout",
     "output_type": "stream",
     "text": [
      "('Neha', 23)\n",
      "('Raj', 20)\n",
      "('Shreya', 18)\n"
     ]
    }
   ],
   "source": [
    "class myfirstclass():\n",
    "    def createname(self,name,age):\n",
    "        self.name=name\n",
    "        self.age=age\n",
    "    def display(self):\n",
    "        return self.name,self.age\n",
    "    def say(self):\n",
    "        self.name=name\n",
    "        self.age=age\n",
    "        return f'hello{self.name} his age is {self.age}'\n",
    "obj=myfirstclass()\n",
    "obj1=myfirstclass()\n",
    "obj2=myfirstclass()\n",
    "obj.createname(\"Neha\",23)\n",
    "obj1.createname(\"Raj\",20)\n",
    "obj2.createname(\"Shreya\",18)\n",
    "print(obj.display())\n",
    "print(obj1.display())\n",
    "print(obj2.display())\n"
   ]
  },
  {
   "cell_type": "code",
   "execution_count": 64,
   "id": "d4330e97",
   "metadata": {},
   "outputs": [
    {
     "data": {
      "text/plain": [
       "'my name is Rahul and my age is 25'"
      ]
     },
     "execution_count": 64,
     "metadata": {},
     "output_type": "execute_result"
    }
   ],
   "source": [
    "class student():\n",
    "    name=\"Raj\"\n",
    "    age=23\n",
    "    def show(self):\n",
    "        name=\"Rahul\"\n",
    "        age=25\n",
    "        #return f'my name is {obj.name} and my age is {obj.age}'\n",
    "        return f'my name is {name} and my age is {age}'\n",
    "obj=student()\n",
    "obj.show()"
   ]
  },
  {
   "cell_type": "code",
   "execution_count": 10,
   "id": "1d6de30f",
   "metadata": {},
   "outputs": [
    {
     "name": "stdout",
     "output_type": "stream",
     "text": [
      "24 24\n",
      "24 28\n",
      "24 32\n",
      "28 36\n",
      "32 40\n",
      "24 44\n",
      "36 48\n"
     ]
    }
   ],
   "source": [
    "class A:\n",
    "    x=20\n",
    "    y=20\n",
    "    \n",
    "    def show(self):\n",
    "        self.x = self.x + 4\n",
    "        A.y = A.y + 4\n",
    "        print(self.x,self.y)\n",
    "obj=A()\n",
    "obj.show()\n",
    "\n",
    "A().show()\n",
    "A().show()\n",
    "obj.show()\n",
    "obj.show()\n",
    "A().show()\n",
    "obj.show()\n",
    "\n"
   ]
  },
  {
   "cell_type": "code",
   "execution_count": null,
   "id": "9373a71f",
   "metadata": {},
   "outputs": [],
   "source": [
    "class increment():\n",
    "    x=10\n",
    "    y=10\n",
    "    \n",
    "    def show(self):\n",
    "        self.x= self.x + 10\n",
    "        A.y= A.y + 10"
   ]
  },
  {
   "cell_type": "code",
   "execution_count": 21,
   "id": "1b4b1f68",
   "metadata": {},
   "outputs": [
    {
     "name": "stdout",
     "output_type": "stream",
     "text": [
      "My name is Neha, my age is 23 my course is Data analytics\n",
      "My name is Raj, my age is 20 my course is Data science\n",
      "My name is Shreya, my age is 18 my course is ML\n"
     ]
    }
   ],
   "source": [
    "class student():\n",
    "    \n",
    "    \n",
    "    def studentinfo(self,name,age,course):\n",
    "        self.name=name\n",
    "        self.age=age\n",
    "        self.course=course\n",
    "        \n",
    "    def display(self):\n",
    "        return f\"My name is {self.name}, my age is {self.age} my course is {self.course}\"\n",
    "obj=student()\n",
    "obj1=student()\n",
    "obj2=student()\n",
    "obj3=student()\n",
    "obj.studentinfo(\"Neha\",23,\"Data analytics\")\n",
    "obj1.studentinfo(\"Raj\",20,\"Data science\")\n",
    "obj2.studentinfo(\"Shreya\",18,\"ML\")\n",
    "print(obj.display())\n",
    "print(obj1.display())\n",
    "print(obj2.display())"
   ]
  },
  {
   "cell_type": "code",
   "execution_count": 22,
   "id": "844565cc",
   "metadata": {},
   "outputs": [
    {
     "data": {
      "text/plain": [
       "'My name is Neha, my age is 23 my course is Data Analytics from Itvedant'"
      ]
     },
     "execution_count": 22,
     "metadata": {},
     "output_type": "execute_result"
    }
   ],
   "source": [
    "class student():\n",
    "    institute=\"Itvedant\"\n",
    "    \n",
    "    def studentinfo(self):\n",
    "        name=\"Neha\"\n",
    "        age=23\n",
    "        course=\"Data Analytics\"\n",
    "        return f\"My name is {name}, my age is {age} my course is {course} from {self.institute}\"\n",
    "obj=student()\n",
    "obj.studentinfo()"
   ]
  },
  {
   "cell_type": "code",
   "execution_count": 24,
   "id": "23756c60",
   "metadata": {},
   "outputs": [
    {
     "name": "stdout",
     "output_type": "stream",
     "text": [
      "Anita\n",
      "20\n",
      "101\n",
      "Priya\n",
      "25\n",
      "102\n",
      "Nisha\n",
      "24\n",
      "103\n"
     ]
    }
   ],
   "source": [
    "class student():\n",
    "    gender=\"Female\"\n",
    "    def __init__(self,name,age,rollno):\n",
    "        self.name=name\n",
    "        self.age=age\n",
    "        self.rollno=rollno\n",
    "    def show(self):\n",
    "        print(self.name)\n",
    "ob=student(\"Anita\",20,101)\n",
    "ob1=student(\"Priya\",25,102)\n",
    "ob2=student(\"Nisha\",24,103)\n",
    "print(ob.name)\n",
    "print(ob.age)\n",
    "print(ob.rollno)\n",
    "print(ob1.name)\n",
    "print(ob1.age)\n",
    "print(ob1.rollno)\n",
    "print(ob2.name)\n",
    "print(ob2.age)\n",
    "print(ob2.rollno)"
   ]
  },
  {
   "cell_type": "code",
   "execution_count": 1,
   "id": "fa2b1fdb",
   "metadata": {},
   "outputs": [
    {
     "name": "stdout",
     "output_type": "stream",
     "text": [
      "First number:-100\n",
      "Second number:-200\n",
      "Addition of two numbers:-300\n"
     ]
    }
   ],
   "source": [
    "class Addition():\n",
    "    f=0\n",
    "    s=0\n",
    "    a=0\n",
    "    def __init__(self,f1,s1):\n",
    "        self.f=f1\n",
    "        self.s=s1\n",
    "    def display(self):\n",
    "        print(\"First number:-\"+str(self.f))\n",
    "        print(\"Second number:-\"+str(self.s))\n",
    "        print(\"Addition of two numbers:-\"+str(self.a))\n",
    "        \n",
    "    def calculate(self):\n",
    "        self.a=self.f+self.s\n",
    "#creating obj of class  \n",
    "#this will invoke parameterize constructor \n",
    "obj=Addition(100,200)\n",
    "#Perform addition\n",
    "obj.calculate()\n",
    "#display result\n",
    "obj.display()\n"
   ]
  },
  {
   "cell_type": "code",
   "execution_count": 2,
   "id": "b30671ae",
   "metadata": {},
   "outputs": [
    {
     "name": "stdout",
     "output_type": "stream",
     "text": [
      "101\n"
     ]
    }
   ],
   "source": [
    "class demodefault:\n",
    "    num=101\n",
    "    def read_number(self):\n",
    "        print(self.num)\n",
    "obj=demodefault()\n",
    "obj.read_number()\n"
   ]
  },
  {
   "cell_type": "code",
   "execution_count": 6,
   "id": "bd2fcebf",
   "metadata": {},
   "outputs": [
    {
     "name": "stdout",
     "output_type": "stream",
     "text": [
      "999\n"
     ]
    }
   ],
   "source": [
    "class demodefault:\n",
    "    num=101\n",
    "    def __init__(self):\n",
    "        self.num=999\n",
    "    def read_number(self):\n",
    "        print(self.num)\n",
    "        \n",
    "obj=demodefault()\n",
    "obj.read_number()"
   ]
  },
  {
   "cell_type": "code",
   "execution_count": 7,
   "id": "b83532b7",
   "metadata": {},
   "outputs": [
    {
     "name": "stdout",
     "output_type": "stream",
     "text": [
      "Employee created \n",
      "Destructor call,Employee Deleted\n"
     ]
    }
   ],
   "source": [
    "class Employee():\n",
    "    def __init__(self):\n",
    "        print(\"Employee created \")\n",
    "        \n",
    "        \n",
    "        \n",
    "    def __del__(self): #to delete any attribute\n",
    "        print(\"Destructor call,Employee Deleted\")\n",
    "obj=Employee()\n",
    "del obj"
   ]
  },
  {
   "cell_type": "code",
   "execution_count": 9,
   "id": "b1131ee8",
   "metadata": {},
   "outputs": [
    {
     "name": "stdout",
     "output_type": "stream",
     "text": [
      "Parent class\n",
      "Child class\n"
     ]
    }
   ],
   "source": [
    "#Single inheritance - when a child class inherit from only one parent class.\n",
    "\n",
    "class parent:\n",
    "    def fun1(self):\n",
    "        print(\"Parent class\")\n",
    "class child(parent):\n",
    "    def fun2(self):\n",
    "        print(\"Child class\")\n",
    "              \n",
    "obj=child()\n",
    "obj.fun1()\n",
    "obj.fun2()\n",
    "              "
   ]
  },
  {
   "cell_type": "code",
   "execution_count": 11,
   "id": "de7cd6f6",
   "metadata": {},
   "outputs": [
    {
     "name": "stdout",
     "output_type": "stream",
     "text": [
      "Father :  Nitin Patil\n",
      "Mother :  Minal Patil\n"
     ]
    }
   ],
   "source": [
    "#multiple inheritance\n",
    "\n",
    "class Mother:\n",
    "    Mothername=\"\"\n",
    "    def mother(self):\n",
    "        print(self.Mothername)\n",
    "class Fater:\n",
    "    Fathername=\"\"\n",
    "    def father(self):\n",
    "        print(self.Fathername)\n",
    "class Son():\n",
    "    def parents(self):\n",
    "        print(\"Father : \",self.Fathername)\n",
    "        print(\"Mother : \",self.Mothername)\n",
    "s1=Son()\n",
    "s1.Fathername=\"Nitin Patil\"\n",
    "s1.Mothername=\"Minal Patil\"\n",
    "s1.parents()"
   ]
  },
  {
   "cell_type": "code",
   "execution_count": 12,
   "id": "7ccb7e3f",
   "metadata": {},
   "outputs": [
    {
     "name": "stdout",
     "output_type": "stream",
     "text": [
      "Enter 1st number : 5\n",
      "Enter 2nd number : 6\n",
      "Sum of 2 numbers :  11\n"
     ]
    }
   ],
   "source": [
    "#Multilevel inheritance\n",
    "class First:\n",
    "    def input1(self):\n",
    "        self.a=int(input(\"Enter 1st number : \"))\n",
    "        self.b=int(input(\"Enter 2nd number : \"))\n",
    "class Second(First):\n",
    "    def add(self):\n",
    "        self.a=self.a+self.b\n",
    "        \n",
    "class Third(Second):\n",
    "    def result(self):\n",
    "        print(\"Sum of 2 numbers : \",self.a)\n",
    "obj=Third()\n",
    "obj.input1()\n",
    "obj.add()\n",
    "obj.result()"
   ]
  },
  {
   "cell_type": "code",
   "execution_count": 5,
   "id": "183b3b56",
   "metadata": {},
   "outputs": [
    {
     "name": "stdout",
     "output_type": "stream",
     "text": [
      "Sum is :  70\n",
      "Substraction is :  30\n"
     ]
    }
   ],
   "source": [
    "#Hierarchical Inheritance\n",
    "\n",
    "class First:\n",
    "    def __init__(self):\n",
    "        self.x=50\n",
    "        self.y=20 \n",
    "        \n",
    "class Second(First):\n",
    "    def findsum(self):\n",
    "        self.z=self.x+self.y\n",
    "        print(\"Sum is : \",self.z)\n",
    "class Third(First):\n",
    "    def findsub(self):\n",
    "        self.z=self.x-self.y\n",
    "        print(\"Substraction is : \",self.z)\n",
    "obj1=Second()\n",
    "obj1.findsum()\n",
    "obj2=Third()\n",
    "obj2.findsub()\n",
    "        \n"
   ]
  },
  {
   "cell_type": "code",
   "execution_count": 21,
   "id": "c28ac43e",
   "metadata": {},
   "outputs": [
    {
     "name": "stdout",
     "output_type": "stream",
     "text": [
      "Similar to method overloading\n",
      "Single arg 10\n",
      "Two arg 30\n",
      "Threearg 60\n",
      "Four arg 60\n"
     ]
    }
   ],
   "source": [
    "#fun with multiple arguments\n",
    "def sum_num(*arg):\n",
    "    result=0\n",
    "    for num in arg:\n",
    "        result+=num\n",
    "    print(result)\n",
    "if(__name__==\"__main__\"):\n",
    "    print(\"Similar to method overloading\")\n",
    "    \n",
    "    print(\"Single arg\",end=\" \")\n",
    "    sum_num(10)\n",
    "    \n",
    "    print(\"Two arg\",end=\" \")\n",
    "    sum_num(10,20)\n",
    "    \n",
    "    print(\"Threearg\",end=\" \")\n",
    "    sum_num(10,20,30)\n",
    "    \n",
    "    print(\"Four arg\",end=\" \")\n",
    "    sum_num(10,20,30)\n"
   ]
  },
  {
   "cell_type": "code",
   "execution_count": 23,
   "id": "38e60aeb",
   "metadata": {},
   "outputs": [
    {
     "name": "stdout",
     "output_type": "stream",
     "text": [
      "Redefined function of class A in class B\n",
      "First function class A\n"
     ]
    }
   ],
   "source": [
    "class A:\n",
    "    def first(self):\n",
    "        print(\"First function class A\")\n",
    "    def second(self):\n",
    "        print(\"Second function class A\")\n",
    "class B(A):\n",
    "    def first(self):\n",
    "        print(\"Redefined function of class A in class B\")\n",
    "    def display(self):\n",
    "        print(\"display function of child class\")\n",
    "child_obj=B()\n",
    "child_obj.first()\n",
    "A().first()"
   ]
  },
  {
   "cell_type": "code",
   "execution_count": 33,
   "id": "a5701424",
   "metadata": {},
   "outputs": [
    {
     "name": "stdout",
     "output_type": "stream",
     "text": [
      "Delhi\n",
      "INR Rs.\n",
      "Washington DC\n",
      "US $\n"
     ]
    }
   ],
   "source": [
    "class India:\n",
    "    def getCapital(self):\n",
    "        print(\"Delhi\")\n",
    "    def getCurrency(self):\n",
    "        print(\"INR Rs.\")\n",
    "class US:\n",
    "    def getCapital(self):\n",
    "        print(\"Washington DC\")\n",
    "    def getCurrency(self):\n",
    "        print(\"US $\")\n",
    "        \n",
    "i=India()\n",
    "us=US()\n",
    "for a in (i,us):\n",
    "        \n",
    "        a.getCapital()\n",
    "        a.getCurrency()"
   ]
  },
  {
   "cell_type": "code",
   "execution_count": 34,
   "id": "43f422b5",
   "metadata": {},
   "outputs": [
    {
     "name": "stdout",
     "output_type": "stream",
     "text": [
      "Neha\n",
      "Nerul\n",
      "Kajal\n",
      "Vashi\n"
     ]
    }
   ],
   "source": [
    "class Person:\n",
    "    def getname(self):\n",
    "        print(\"Neha\")\n",
    "    def getplace(self):\n",
    "        print(\"Nerul\")\n",
    "class Person2:\n",
    "    def getname(self):\n",
    "        print(\"Kajal\")\n",
    "    def getplace(self):\n",
    "        print(\"Vashi\")\n",
    "        \n",
    "p1=Person()\n",
    "p2=Person2()\n",
    "\n",
    "for i in (p1,p2):\n",
    "    i.getname()\n",
    "    i.getplace()"
   ]
  },
  {
   "cell_type": "code",
   "execution_count": 1,
   "id": "dc713497",
   "metadata": {},
   "outputs": [
    {
     "name": "stdout",
     "output_type": "stream",
     "text": [
      "Hello how are you everyone ? \n"
     ]
    }
   ],
   "source": [
    "class parent:\n",
    "    def __init__(self,txt):\n",
    "        self.message=txt\n",
    "    def printmsg(self):\n",
    "        print(self.message)\n",
    "class child(parent):\n",
    "    def __init__(self,txt):\n",
    "        super().__init__(txt) #allow us to avoid using the base class name explicitly working with multiple inheritance\n",
    "x=child(\"Hello how are you everyone ? \")\n",
    "x.printmsg()"
   ]
  },
  {
   "cell_type": "code",
   "execution_count": 2,
   "id": "293d01f9",
   "metadata": {},
   "outputs": [
    {
     "name": "stdout",
     "output_type": "stream",
     "text": [
      "Dog has 4 legs\n",
      "dog can't swim\n",
      "dog can't fly\n",
      "dog is warm blood animal\n",
      "dog is an animal\n",
      "\n",
      "Bat can't swim\n",
      "Bat is warm blood animal\n",
      "Bat is an animal\n"
     ]
    }
   ],
   "source": [
    "class Animal:\n",
    "    def __init__(self,Animal):\n",
    "        print(Animal,\"is an animal\")\n",
    "        \n",
    "class Mammal(Animal):\n",
    "    def __init__(self,mammalname):\n",
    "        print(mammalname,\"is warm blood animal\")\n",
    "        super().__init__(mammalname)\n",
    "        \n",
    "class NonwingedMammal(Mammal):\n",
    "    def __init__(self,NonwingedMammal):\n",
    "        print(NonwingedMammal,\"can't fly\")\n",
    "        super().__init__(NonwingedMammal)\n",
    "        \n",
    "class NonMarineMammal(Mammal):\n",
    "    def __init__(self,NonMarineMammal):\n",
    "        print(NonMarineMammal,\"can't swim\")\n",
    "        super().__init__(NonMarineMammal)\n",
    "        \n",
    "class dog(NonMarineMammal,NonwingedMammal):\n",
    "    def __init__(self):\n",
    "        print(\"Dog has 4 legs\")\n",
    "        super().__init__('dog')\n",
    "        \n",
    "d=dog()\n",
    "print(\"\")\n",
    "bat=NonMarineMammal('Bat')"
   ]
  },
  {
   "cell_type": "code",
   "execution_count": 4,
   "id": "c07a12be",
   "metadata": {},
   "outputs": [
    {
     "data": {
      "text/plain": [
       "int"
      ]
     },
     "execution_count": 4,
     "metadata": {},
     "output_type": "execute_result"
    }
   ],
   "source": [
    "a=36\n",
    "b=5\n",
    "c=a//b\n",
    "type(c)"
   ]
  },
  {
   "cell_type": "code",
   "execution_count": 9,
   "id": "74bb26e6",
   "metadata": {},
   "outputs": [
    {
     "name": "stdout",
     "output_type": "stream",
     "text": [
      "volume30\n"
     ]
    }
   ],
   "source": [
    "class bubble:\n",
    "    def __init__(self,volume):\n",
    "        self.volume=volume\n",
    "    def __str__(self):\n",
    "        return \"volume\"+str(self.volume)\n",
    "b1=bubble(30)\n",
    "\n",
    "print(b1) "
   ]
  },
  {
   "cell_type": "code",
   "execution_count": 14,
   "id": "8c1c0bf5",
   "metadata": {},
   "outputs": [
    {
     "name": "stdout",
     "output_type": "stream",
     "text": [
      "volume : 600\n"
     ]
    }
   ],
   "source": [
    "class bubble:\n",
    "    def __init__(self,volume):\n",
    "        self.volume=volume\n",
    "    \n",
    "    def __str__(self):\n",
    "        return \"volume : \"+str(self.volume)\n",
    "    \n",
    "    def __mul__(self,other):\n",
    "        volume=self.volume*other.volume\n",
    "        return bubble(volume)\n",
    "    \n",
    "b1=bubble(30)\n",
    "b2=bubble(20)\n",
    "print(b1*b2)"
   ]
  },
  {
   "cell_type": "code",
   "execution_count": 5,
   "id": "f58e2379",
   "metadata": {},
   "outputs": [
    {
     "name": "stdout",
     "output_type": "stream",
     "text": [
      "('Total box size now : ', 12)\n",
      "('Total difference is now : ', -3)\n"
     ]
    }
   ],
   "source": [
    "class Box:\n",
    "    def __init__(self,l,w):\n",
    "        self.l=l\n",
    "        self.w=w\n",
    "    def __add__(self,other):\n",
    "        s1=self.l+self.w\n",
    "        s2=other.l+other.w\n",
    "        total=s1+s2\n",
    "        return \"Total box size now : \",total\n",
    "    def __sub__(self,other):\n",
    "        s1=self.l-self.w\n",
    "        s2=other.l-other.w\n",
    "        difference=s1-2\n",
    "        return \"Total difference is now : \",difference\n",
    "    \n",
    "    \n",
    "box1=Box(2,3)\n",
    "box2=Box(3,4)\n",
    "print(box1+box2)\n",
    "print(box1-box2)"
   ]
  },
  {
   "cell_type": "code",
   "execution_count": 6,
   "id": "041e0b53",
   "metadata": {},
   "outputs": [
    {
     "name": "stdout",
     "output_type": "stream",
     "text": [
      "Enter the value of obj 1 : 5\n",
      "Enter the value of obj 2 : 6\n",
      " :  obj1 is less than the obj2\n",
      "Enter the value of obj 1 : 5\n",
      "Enter the value of obj 2 : 5\n",
      " :  obj1 is equal to the obj2\n"
     ]
    }
   ],
   "source": [
    "class e1:\n",
    "    def __init__(self,x):\n",
    "        self.x=x\n",
    "    def __lt__(self,u):\n",
    "        if(self.x < u.x):\n",
    "            return \"obj1 is less than the obj2\"\n",
    "        else:\n",
    "            return \"obj2 is less than the obj1\"\n",
    "    def __eq__(self,u):\n",
    "        if(self.x == u.x):\n",
    "            return \"obj1 is equal to the obj2\"\n",
    "        else:\n",
    "            return \"obj2 is not equal to the obj1\"\n",
    "ob1=e1(int(input(\"Enter the value of obj 1 : \")))\n",
    "ob2=e1(int(input(\"Enter the value of obj 2 : \"))) \n",
    "\n",
    "print(\" : \",ob1 < ob2)\n",
    "\n",
    "ob3=e1(int(input(\"Enter the value of obj 1 : \")))\n",
    "ob4=e1(int(input(\"Enter the value of obj 2 : \"))) \n",
    "\n",
    "print(\" : \",ob3 == ob4)"
   ]
  }
 ],
 "metadata": {
  "kernelspec": {
   "display_name": "Python 3 (ipykernel)",
   "language": "python",
   "name": "python3"
  },
  "language_info": {
   "codemirror_mode": {
    "name": "ipython",
    "version": 3
   },
   "file_extension": ".py",
   "mimetype": "text/x-python",
   "name": "python",
   "nbconvert_exporter": "python",
   "pygments_lexer": "ipython3",
   "version": "3.9.12"
  }
 },
 "nbformat": 4,
 "nbformat_minor": 5
}
